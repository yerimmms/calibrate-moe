{
  "nbformat": 4,
  "nbformat_minor": 0,
  "metadata": {
    "colab": {
      "provenance": [],
      "authorship_tag": "ABX9TyNsAck3GyZnleQR6kYrB0c3",
      "include_colab_link": true
    },
    "kernelspec": {
      "name": "python3",
      "display_name": "Python 3"
    },
    "language_info": {
      "name": "python"
    }
  },
  "cells": [
    {
      "cell_type": "markdown",
      "metadata": {
        "id": "view-in-github",
        "colab_type": "text"
      },
      "source": [
        "<a href=\"https://colab.research.google.com/github/yerimmms/calibrate-moe/blob/calibrate-moe/codebench.ipynb\" target=\"_parent\"><img src=\"https://colab.research.google.com/assets/colab-badge.svg\" alt=\"Open In Colab\"/></a>"
      ]
    },
    {
      "cell_type": "code",
      "execution_count": 3,
      "metadata": {
        "colab": {
          "base_uri": "https://localhost:8080/"
        },
        "id": "zh0LJFlS73Jf",
        "outputId": "7602a7d5-fb63-4db9-b6f9-e4671e5e2eac"
      },
      "outputs": [
        {
          "output_type": "stream",
          "name": "stdout",
          "text": [
            "Cloning into 'CodeEditorBench'...\n",
            "remote: Enumerating objects: 451, done.\u001b[K\n",
            "remote: Counting objects: 100% (8/8), done.\u001b[K\n",
            "remote: Compressing objects: 100% (7/7), done.\u001b[K\n",
            "remote: Total 451 (delta 4), reused 1 (delta 1), pack-reused 443\u001b[K\n",
            "Receiving objects: 100% (451/451), 3.66 MiB | 15.42 MiB/s, done.\n",
            "Resolving deltas: 100% (172/172), done.\n"
          ]
        }
      ],
      "source": [
        "!git clone https://github.com/CodeEditorBench/CodeEditorBench.git"
      ]
    },
    {
      "cell_type": "code",
      "source": [
        "# colab 용\n",
        "# !pip install -q condacolab\n",
        "# import condacolab\n",
        "# condacolab.install()\n",
        "# condacolab.check()"
      ],
      "metadata": {
        "colab": {
          "base_uri": "https://localhost:8080/"
        },
        "id": "mPRAdMdp8EsJ",
        "outputId": "07522443-4750-4054-c9d4-b6ae6b066753"
      },
      "execution_count": 97,
      "outputs": [
        {
          "output_type": "stream",
          "name": "stdout",
          "text": [
            "✨🍰✨ Everything looks OK!\n"
          ]
        }
      ]
    },
    {
      "cell_type": "code",
      "source": [
        "%cd CodeEditorBench/\n",
        "!ls\n",
        "!conda env create -f CodeEditorBench/coder.yml"
      ],
      "metadata": {
        "collapsed": true,
        "id": "8EkEpu8v8qPe"
      },
      "execution_count": null,
      "outputs": []
    },
    {
      "cell_type": "code",
      "source": [
        "!conda env list"
      ],
      "metadata": {
        "colab": {
          "base_uri": "https://localhost:8080/"
        },
        "id": "y8wmmBub-Eae",
        "outputId": "960fb923-7369-4692-ee27-47e1a7e6db54"
      },
      "execution_count": 98,
      "outputs": [
        {
          "output_type": "stream",
          "name": "stdout",
          "text": [
            "# conda environments:\n",
            "#\n",
            "base                     /usr/local\n",
            "coder                    /usr/local/envs/coder\n",
            "\n"
          ]
        }
      ]
    },
    {
      "cell_type": "code",
      "source": [
        "!conda activate coder"
      ],
      "metadata": {
        "id": "RPBzm5cY_Dar"
      },
      "execution_count": 35,
      "outputs": []
    },
    {
      "cell_type": "code",
      "source": [
        "!huggingface-cli login"
      ],
      "metadata": {
        "id": "LvKc6t7bAbnC"
      },
      "execution_count": null,
      "outputs": []
    },
    {
      "cell_type": "code",
      "source": [
        "# %cd data\n",
        "filenames = [\n",
        "    \"code_debug_plus.jsonl\",\n",
        "    \"code_debug_primary.jsonl\",\n",
        "    \"code_polishment_plus.jsonl\",\n",
        "    \"code_polishment_primary.jsonl\",\n",
        "    \"code_switch_plus.jsonl\",\n",
        "    \"code_switch_primary.jsonl\",\n",
        "    \"code_translate_plus.jsonl\",\n",
        "    \"code_translate_primary.jsonl\",\n",
        "]\n",
        "\n",
        "# !huggingface-cli download m-a-p/CodeEditorBench {filenames[0]} --repo-type=dataset --local-dir=\".\" --local-dir-use-symlinks=\"auto\"\n",
        "# download filenames with huggingface-cli\n",
        "!mkdir data\n",
        "for filename in filenames:\n",
        "    !huggingface-cli download m-a-p/CodeEditorBench {filename} --repo-type=dataset --local-dir=\"./data/\" --local-dir-use-symlinks=\"auto\""
      ],
      "metadata": {
        "id": "CW_YbMptAvTD"
      },
      "execution_count": null,
      "outputs": []
    },
    {
      "cell_type": "code",
      "source": [
        "!huggingface-cli download --resume-download codellama/CodeLlama-7b-Instruct-hf --local-dir ./CodeLlama-7b-Instruct-hf"
      ],
      "metadata": {
        "id": "j19KQjHSDRYL"
      },
      "execution_count": null,
      "outputs": []
    },
    {
      "cell_type": "code",
      "source": [
        "!mkdir -p greedy_result/{code_debug,code_translate,code_polishment,code_switch}\n",
        "!ls -l"
      ],
      "metadata": {
        "colab": {
          "base_uri": "https://localhost:8080/"
        },
        "id": "wB02SY6UCepK",
        "outputId": "0ffb4870-af16-4b5b-8f39-861ec4f909f4"
      },
      "execution_count": 65,
      "outputs": [
        {
          "output_type": "stream",
          "name": "stdout",
          "text": [
            "total 108\n",
            "-rw-r--r-- 1 root root  2540 Jun  4 01:49 api_handler.py\n",
            "-rw-r--r-- 1 root root 15153 Jun  4 01:49 api_inference.py\n",
            "drwxr-xr-x 2 root root  4096 Jun  4 01:49 cluster\n",
            "-rw-r--r-- 1 root root  2894 Jun  4 01:49 coder.yml\n",
            "drwxr-xr-x 3 root root  4096 Jun  4 02:21 data\n",
            "-rw-r--r-- 1 root root   991 Jun  4 01:49 dataset.py\n",
            "drwxr-xr-x 3 root root  4096 Jun  4 01:49 evaluation\n",
            "drwxr-xr-x 4 root root  4096 Jun  4 01:49 few_shot_prompt\n",
            "drwxr-xr-x 6 root root  4096 Jun  4 02:37 greedy_result\n",
            "-rw-r--r-- 1 root root 11431 Jun  4 01:49 LICENSE\n",
            "drwxr-xr-x 2 root root  4096 Jun  4 01:49 mdPICs\n",
            "drwxr-xr-x 4 root root  4096 Jun  4 02:37 model\n",
            "drwxr-xr-x 2 root root  4096 Jun  4 01:49 prompt_function\n",
            "-rw-r--r-- 1 root root  7251 Jun  4 01:49 README.md\n",
            "-rw-r--r-- 1 root root 11231 Jun  4 01:49 result_postprocess.py\n",
            "-rw-r--r-- 1 root root  9516 Jun  4 01:49 vllm_inference.py\n",
            "-rw-r--r-- 1 root root  1154 Jun  4 01:49 vllm_inference.sh\n"
          ]
        }
      ]
    },
    {
      "cell_type": "code",
      "source": [
        "!python vllm_inference.py \\\n",
        "    --base_model \"CodeLlama-7b-Instruct-hf\" \\\n",
        "    --dataset \"code_debug\" \\\n",
        "    --input_data_dir \"./data/\" \\\n",
        "    --output_data_dir \"./greedy_result/\" \\\n",
        "    --batch_size 64 \\\n",
        "    --num_of_sequences 1 \\\n",
        "    --num_gpus 1 \\\n",
        "    --prompt_type \"zero\" \\\n",
        "    --start_idx 0 \\\n",
        "    --end_idx -1"
      ],
      "metadata": {
        "id": "aVQtz6BFE_V6"
      },
      "execution_count": null,
      "outputs": []
    }
  ]
}